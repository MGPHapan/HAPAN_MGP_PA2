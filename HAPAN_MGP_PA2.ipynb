{
 "cells": [
  {
   "cell_type": "markdown",
   "id": "f3cd470a-5ede-4fa4-898e-d707a0b8b420",
   "metadata": {},
   "source": [
    "Programming Assignment #2 - HAPAN, Marianne Guinevere P."
   ]
  },
  {
   "cell_type": "markdown",
   "id": "0b1e8866-d748-459c-b208-a5f61edda2c0",
   "metadata": {},
   "source": [
    "Normalization Problem"
   ]
  },
  {
   "cell_type": "code",
   "execution_count": 2,
   "id": "d99c7218-f33c-4713-ab85-099fc5ba70bd",
   "metadata": {},
   "outputs": [],
   "source": [
    "import numpy as np"
   ]
  },
  {
   "cell_type": "code",
   "execution_count": 13,
   "id": "6ea8d988-e1b2-4484-ad9c-c3c1e30048b5",
   "metadata": {},
   "outputs": [
    {
     "name": "stdout",
     "output_type": "stream",
     "text": [
      "Normalized: [[ 0.68532834  0.8054656  -0.60349966 -1.06563276  0.60347718]\n",
      " [ 1.48762474 -1.29785494  1.0283103   1.13078666 -0.66879313]\n",
      " [-1.0264505   0.39659893 -1.35826161 -1.28579242 -1.0576153 ]\n",
      " [-0.69541634  1.48044348  1.15814569  1.08984818  0.77198024]\n",
      " [-1.24406866  0.2135967   0.29808895 -1.33653166  0.49022201]]\n"
     ]
    }
   ],
   "source": [
    "p = np.random.rand(5, 5)\n",
    "\n",
    "m = p.mean()\n",
    "s = p.std()\n",
    "\n",
    "n = (p-m)/s\n",
    "\n",
    "print(\"Normalized:\", n)"
   ]
  },
  {
   "cell_type": "markdown",
   "id": "b72bbdd8-317e-45d7-a62c-6fa109f3752a",
   "metadata": {},
   "source": [
    "Divisible by 3 Problem"
   ]
  },
  {
   "cell_type": "code",
   "execution_count": 19,
   "id": "78fb5e17-ed50-4039-9d35-8c5538a69ebe",
   "metadata": {},
   "outputs": [
    {
     "name": "stdout",
     "output_type": "stream",
     "text": [
      "Array of Squares:  [[    1     4     9    16    25    36    49    64    81   100]\n",
      " [  121   144   169   196   225   256   289   324   361   400]\n",
      " [  441   484   529   576   625   676   729   784   841   900]\n",
      " [  961  1024  1089  1156  1225  1296  1369  1444  1521  1600]\n",
      " [ 1681  1764  1849  1936  2025  2116  2209  2304  2401  2500]\n",
      " [ 2601  2704  2809  2916  3025  3136  3249  3364  3481  3600]\n",
      " [ 3721  3844  3969  4096  4225  4356  4489  4624  4761  4900]\n",
      " [ 5041  5184  5329  5476  5625  5776  5929  6084  6241  6400]\n",
      " [ 6561  6724  6889  7056  7225  7396  7569  7744  7921  8100]\n",
      " [ 8281  8464  8649  8836  9025  9216  9409  9604  9801 10000]]\n",
      "All Elements that are divisible by 3:  [   9   36   81  144  225  324  441  576  729  900 1089 1296 1521 1764\n",
      " 2025 2304 2601 2916 3249 3600 3969 4356 4761 5184 5625 6084 6561 7056\n",
      " 7569 8100 8649 9216 9801]\n"
     ]
    }
   ],
   "source": [
    "d = np.arange(1, 101) ** 2\n",
    "d = d.reshape(10, 10)\n",
    "\n",
    "s = d[d % 3 == 0]\n",
    "\n",
    "print(\"Array of Squares: \", d)\n",
    "print(\"All Elements that are divisible by 3: \", s)"
   ]
  },
  {
   "cell_type": "code",
   "execution_count": null,
   "id": "6967f60d-2bcd-4465-b6d8-6155a294a7c3",
   "metadata": {},
   "outputs": [],
   "source": []
  }
 ],
 "metadata": {
  "kernelspec": {
   "display_name": "Python [conda env:base] *",
   "language": "python",
   "name": "conda-base-py"
  },
  "language_info": {
   "codemirror_mode": {
    "name": "ipython",
    "version": 3
   },
   "file_extension": ".py",
   "mimetype": "text/x-python",
   "name": "python",
   "nbconvert_exporter": "python",
   "pygments_lexer": "ipython3",
   "version": "3.13.5"
  }
 },
 "nbformat": 4,
 "nbformat_minor": 5
}
